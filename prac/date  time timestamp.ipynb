{
 "cells": [
  {
   "cell_type": "code",
   "execution_count": 20,
   "metadata": {},
   "outputs": [
    {
     "name": "stdout",
     "output_type": "stream",
     "text": [
      "2019-09-05\n",
      "9 5 2019\n",
      "3\n"
     ]
    }
   ],
   "source": [
    "from datetime import date\n",
    "d1=date.today()\n",
    "print(d1)\n",
    "print(d1.month,d1.day,d1.year)\n",
    "print(d1.weekday())"
   ]
  },
  {
   "cell_type": "code",
   "execution_count": 36,
   "metadata": {},
   "outputs": [
    {
     "name": "stdout",
     "output_type": "stream",
     "text": [
      "2016-04-15 08:27:18-05:00\n"
     ]
    }
   ],
   "source": [
    "import datetime\n",
    "dt = datetime.datetime.strptime(\"2016-04-15T08:27:18-0500\", \"%Y-%m-%dT%H:%M:%S%z\")\n",
    "print(dt)"
   ]
  },
  {
   "cell_type": "code",
   "execution_count": 19,
   "metadata": {},
   "outputs": [
    {
     "name": "stdout",
     "output_type": "stream",
     "text": [
      "14:25:36.018625\n"
     ]
    }
   ],
   "source": [
    "from datetime import time\n",
    "t1 = time(14, 25, 36, 18625)\n",
    "print(t1)"
   ]
  },
  {
   "cell_type": "code",
   "execution_count": 39,
   "metadata": {},
   "outputs": [
    {
     "name": "stdout",
     "output_type": "stream",
     "text": [
      "2015-01-01 12:00:00+09:00\n"
     ]
    }
   ],
   "source": [
    "from datetime import datetime, timedelta, timezone \n",
    "JST = timezone(timedelta(hours=+9))\n",
    "dt = datetime(2015, 1, 1, 12, 0, 0, tzinfo=JST) \n",
    "print(dt) "
   ]
  },
  {
   "cell_type": "code",
   "execution_count": 48,
   "metadata": {},
   "outputs": [
    {
     "name": "stdout",
     "output_type": "stream",
     "text": [
      "334 days, 0:00:00 <class 'datetime.timedelta'>\n",
      "28857600.0\n",
      "1002 days, 0:00:00\n"
     ]
    }
   ],
   "source": [
    "from datetime import datetime, timedelta, timezone\n",
    "d1=date(2015,5,21)\n",
    "d2=date(2016,4,19)\n",
    "d3=d2-d1\n",
    "print(d3,type(d3))\n",
    "print(d3.total_seconds())\n",
    "print(d3*3)"
   ]
  },
  {
   "cell_type": "code",
   "execution_count": 60,
   "metadata": {},
   "outputs": [
    {
     "name": "stdout",
     "output_type": "stream",
     "text": [
      "2019-09-05 11:29:03.097843\n",
      "9-5-2019\n",
      "9-5-2019\n"
     ]
    }
   ],
   "source": [
    "from datetime import datetime\n",
    "d3=datetime.now()\n",
    "#print(d3.time())\n",
    "#print(d3.date())\n",
    "print(d3.date(),d3.time())\n",
    "print(str(d3.month) + '-' + str(d3.day) + '-' + str(d3.year))\n"
   ]
  },
  {
   "cell_type": "code",
   "execution_count": 70,
   "metadata": {},
   "outputs": [
    {
     "name": "stdout",
     "output_type": "stream",
     "text": [
      "Thursday, September, 20, 09/05/19\n"
     ]
    }
   ],
   "source": [
    "from datetime import datetime \n",
    "d3=datetime.now()\n",
    "print(d3.strftime('%A, %B, %C, %x'))"
   ]
  },
  {
   "cell_type": "code",
   "execution_count": 73,
   "metadata": {},
   "outputs": [
    {
     "name": "stdout",
     "output_type": "stream",
     "text": [
      "Thu,Sep,Thu Sep  5 11:46:24 2019,09/05/19\n"
     ]
    }
   ],
   "source": [
    "from datetime import datetime\n",
    "d1=datetime.now()\n",
    "print(d1.strftime('%a,%b,%c,%x'))"
   ]
  },
  {
   "cell_type": "code",
   "execution_count": 87,
   "metadata": {},
   "outputs": [
    {
     "name": "stdout",
     "output_type": "stream",
     "text": [
      "2019-09-05\n",
      "108 days, 0:00:00\n",
      "108 days to event\n",
      "108 days, 0:00:00 days to event\n"
     ]
    }
   ],
   "source": [
    "from datetime import datetime   \n",
    "today=datetime.today().date()\n",
    "print(today)\n",
    "\n",
    "my_event=date(2019,12,22)\n",
    "\n",
    "days_to_event=abs(my_event-today)\n",
    "print(days_to_event)\n",
    "\n",
    "print(days_to_event.days, 'days to event')\n",
    "print(days_to_event, 'days to event')\n"
   ]
  },
  {
   "cell_type": "code",
   "execution_count": 122,
   "metadata": {},
   "outputs": [
    {
     "name": "stdout",
     "output_type": "stream",
     "text": [
      "1567712733.948459\n",
      "time.struct_time(tm_year=2019, tm_mon=9, tm_mday=5, tm_hour=19, tm_min=45, tm_sec=33, tm_wday=3, tm_yday=248, tm_isdst=0)\n",
      "2019-09-05 12:45:33.948459\n",
      "1.609375 this is start time\n",
      "1.609375 this is end time\n",
      "0.0 this ts the operatation executed time\n"
     ]
    }
   ],
   "source": [
    "start_time = time.process_time()\n",
    "\n",
    "import time\n",
    "s=time.time()\n",
    "print(s)\n",
    "print(time.gmtime())\n",
    "\n",
    "from datetime import datetime \n",
    "tillnow=datetime.fromtimestamp(s)\n",
    "print(tillnow)\n",
    "\n",
    "time.sleep(3)\n",
    "\n",
    "end_time = time.process_time()\n",
    "\n",
    "operation_executed=end_time-start_time\n",
    "\n",
    "print(start_time, 'this is start time')\n",
    "print(end_time, 'this is end time')\n",
    "print(operation_executed, 'this ts the operatation executed time')"
   ]
  },
  {
   "cell_type": "code",
   "execution_count": 129,
   "metadata": {},
   "outputs": [
    {
     "name": "stdout",
     "output_type": "stream",
     "text": [
      "2019-09-05 12:46:30.915397\n",
      "1567712790.915397\n",
      "1567712790.915397\n",
      "time.struct_time(tm_year=2019, tm_mon=9, tm_mday=5, tm_hour=19, tm_min=46, tm_sec=30, tm_wday=3, tm_yday=248, tm_isdst=0)\n",
      "time.struct_time(tm_year=2019, tm_mon=9, tm_mday=5, tm_hour=12, tm_min=46, tm_sec=30, tm_wday=3, tm_yday=248, tm_isdst=1)\n"
     ]
    }
   ],
   "source": [
    "from datetime import datetime\n",
    "now = datetime.fromtimestamp(s)\n",
    "print(now)\n",
    "print(datetime.timestamp(now))\n",
    "a=datetime.timestamp(now)\n",
    "print(a)"
   ]
  },
  {
   "cell_type": "code",
   "execution_count": 124,
   "metadata": {},
   "outputs": [
    {
     "name": "stdout",
     "output_type": "stream",
     "text": [
      "1567712790.915397\n",
      "time.struct_time(tm_year=2019, tm_mon=9, tm_mday=5, tm_hour=19, tm_min=46, tm_sec=30, tm_wday=3, tm_yday=248, tm_isdst=0)\n",
      "time.struct_time(tm_year=2019, tm_mon=9, tm_mday=5, tm_hour=12, tm_min=46, tm_sec=30, tm_wday=3, tm_yday=248, tm_isdst=1)\n"
     ]
    }
   ],
   "source": [
    "import time\n",
    "s=time.time()\n",
    "print(s)\n",
    "time.sleep(3)           # to sleep the process for a givem time \n",
    "print(time.gmtime(s))    # it converts the seconds to the datetime \n",
    "print(time.localtime(s))# it is ame like gmtime(s) which converts the seconds to the datetime. it takes the time from jan 1 1970"
   ]
  },
  {
   "cell_type": "code",
   "execution_count": 133,
   "metadata": {},
   "outputs": [],
   "source": [
    "from datetime import datetime\n",
    "from dateutil import tz \n",
    "local = tz.gettz() # Local time\n",
    "PT = tz.gettz('US/Pacific') # Pacific time"
   ]
  },
  {
   "cell_type": "code",
   "execution_count": null,
   "metadata": {},
   "outputs": [],
   "source": []
  },
  {
   "cell_type": "code",
   "execution_count": null,
   "metadata": {},
   "outputs": [],
   "source": []
  }
 ],
 "metadata": {
  "kernelspec": {
   "display_name": "Python 3",
   "language": "python",
   "name": "python3"
  },
  "language_info": {
   "codemirror_mode": {
    "name": "ipython",
    "version": 3
   },
   "file_extension": ".py",
   "mimetype": "text/x-python",
   "name": "python",
   "nbconvert_exporter": "python",
   "pygments_lexer": "ipython3",
   "version": "3.7.3"
  }
 },
 "nbformat": 4,
 "nbformat_minor": 2
}
