{
 "cells": [
  {
   "cell_type": "code",
   "execution_count": 61,
   "metadata": {},
   "outputs": [
    {
     "name": "stdout",
     "output_type": "stream",
     "text": [
      "r\n",
      "ha\n",
      "arish\n",
      "sh\n"
     ]
    }
   ],
   "source": [
    "#slicing\n",
    "\n",
    "x ='harish'\n",
    "print(x[2])\n",
    "\n",
    "print(x[:2]) #ha\n",
    "\n",
    "print(x[1:])  #rish\n",
    "\n",
    "print(x[-2:])"
   ]
  },
  {
   "cell_type": "code",
   "execution_count": 45,
   "metadata": {},
   "outputs": [
    {
     "name": "stdout",
     "output_type": "stream",
     "text": [
      "kayadev\n",
      "kaya dev banglore\n",
      "kayadevkayadevkayadev\n"
     ]
    }
   ],
   "source": [
    "#adding and concatenation\n",
    "\n",
    "x='kaya'+'dev'\n",
    "print(x)\n",
    "\n",
    "y=['kaya','dev']+['banglore']\n",
    "\n",
    "a,b,c=y\n",
    "print(a,b,c)\n",
    "\n",
    "z='kayadev'*3\n",
    "print(z)"
   ]
  },
  {
   "cell_type": "code",
   "execution_count": 17,
   "metadata": {},
   "outputs": [
    {
     "name": "stdout",
     "output_type": "stream",
     "text": [
      "0 7\n",
      "1 8\n",
      "2 3\n",
      "0 10\n",
      "1 12\n",
      "2 14\n"
     ]
    }
   ],
   "source": [
    "#concepet of itterating\n",
    "x = [7, 8, 3]\n",
    "for index, item in enumerate(x):\n",
    "    print(index,item)\n",
    "y = [10, 12, 14]\n",
    "for index, item in enumerate(y):\n",
    "    print(index,item)"
   ]
  },
  {
   "cell_type": "code",
   "execution_count": 44,
   "metadata": {},
   "outputs": [
    {
     "name": "stdout",
     "output_type": "stream",
     "text": [
      "4\n",
      "6\n",
      "12\n",
      "2\n",
      "['kaya', 'dev', 'banglore']\n",
      "3\n",
      "[2, 10, 12, 12]\n",
      "['banglore', 'dev', 'kaya']\n",
      "2\n",
      "2\n",
      "['harish', 'yada', 'ola']\n",
      "harish yada ola\n"
     ]
    }
   ],
   "source": [
    "x = [10,2,12,12]\n",
    "print(len(x))\n",
    "a = 'harish'\n",
    "print(len(a))\n",
    "print(max(x))\n",
    "print(min(x))\n",
    "y=['kaya','dev']+['banglore']\n",
    "print(y)\n",
    "print(len(y))\n",
    "\n",
    "\n",
    "\n",
    "print(sorted(x))\n",
    "print(sorted(y))\n",
    "print(a.count('h'))\n",
    "print(x.count(12))\n",
    "\n",
    "ha=['harish','yada','ola']\n",
    "print(ha)\n",
    "a,b,c=ha\n",
    "print(a,b,c)"
   ]
  },
  {
   "cell_type": "code",
   "execution_count": 71,
   "metadata": {},
   "outputs": [
    {
     "name": "stdout",
     "output_type": "stream",
     "text": [
      "[10, 20]\n",
      "[0, 1, 2]\n",
      "[9, 16, 25]\n",
      "[10, 2, 14, 10]\n"
     ]
    }
   ],
   "source": [
    "x = list()\n",
    "y = ['a', 25, 'dog', 8.43]\n",
    "tuple1 = (10, 20)\n",
    "z = list(tuple1)\n",
    "print(z)\n",
    "\n",
    "a= [m for m in range(3)]\n",
    "print(a)\n",
    "\n",
    "c= [i**2 for i in range(6) if i>2]\n",
    "print(c)\n",
    "\n",
    "k=[10,2,12,14]\n",
    "\n",
    "k.append(10\n",
    "del(k[2])\n",
    "print(k)\n",
    "\n",
    "\n"
   ]
  },
  {
   "cell_type": "code",
   "execution_count": 78,
   "metadata": {},
   "outputs": [
    {
     "name": "stdout",
     "output_type": "stream",
     "text": [
      "[11, 2, 12, 45, 4]\n",
      "[11, 2, 12, 45, 4, 12, 45, ['a', 'b'], 78, 78]\n"
     ]
    }
   ],
   "source": [
    "x=[11,12,45,4]\n",
    "x.insert(1,2)\n",
    "print(x)\n",
    "y=[12,45,78,78]\n",
    "y.insert(2,['a','b'])\n",
    "x.extend(y)\n",
    "print(x)"
   ]
  },
  {
   "cell_type": "code",
   "execution_count": 89,
   "metadata": {},
   "outputs": [
    {
     "name": "stdout",
     "output_type": "stream",
     "text": [
      "[1, 2, 3, 4, 5, 8, 9, 7, 4, 44]\n",
      "44\n",
      "[4, 7, 9, 8, 5, 4, 3, 2, 1]\n",
      "[1, 2, 3, 4, 4, 5, 7, 8, 9]\n"
     ]
    }
   ],
   "source": [
    "x=[1,2,3,4,5,8,9,7,4,44,88]\n",
    "x.pop()\n",
    "print(x)\n",
    "print(x.pop())\n",
    "\n",
    "x.reverse()\n",
    "print(x)\n",
    "\n",
    "x.sort()\n",
    "print(x)"
   ]
  },
  {
   "cell_type": "code",
   "execution_count": 99,
   "metadata": {},
   "outputs": [
    {
     "name": "stdout",
     "output_type": "stream",
     "text": [
      "{1, 2, 3, 4}\n",
      "{1, 2, 3, 4, 7}\n",
      "{1, 2, 3, 7}\n",
      "4\n",
      "True\n",
      "1 {2, 3, 7}\n"
     ]
    }
   ],
   "source": [
    "x={1,2,3}\n",
    "x.add(4)\n",
    "print(x)\n",
    "\n",
    "x.add(7)\n",
    "print(x)\n",
    "x.remove(4)\n",
    "print(x)\n",
    "print(len(x))\n",
    "print(3 in x)\n",
    "print(x.pop(),x)"
   ]
  },
  {
   "cell_type": "code",
   "execution_count": 110,
   "metadata": {},
   "outputs": [
    {
     "name": "stdout",
     "output_type": "stream",
     "text": [
      "{'harish': 212, 'naidu': 211, 'pradeep': 215}\n",
      "{'harish': 212, 'naidu': 211, 'pradeep': 215}\n",
      "{'harish': 212, 'naidu': 211, 'pradeep': 215}\n",
      "{'harish': 212, 'naidu': 211, 'pradeep': 215, 'yadav': 222}\n",
      "{'harish': 212, 'naidu': 211}\n"
     ]
    }
   ],
   "source": [
    "x={'harish':212,'naidu':211,'pradeep':215}\n",
    "print(x)\n",
    "\n",
    "y=dict([('harish',212),('naidu',211),('pradeep',215)])\n",
    "print(y)\n",
    "\n",
    "z=dict(harish=212,naidu=211,pradeep=215)\n",
    "print(z)\n",
    "\n",
    "x['yadav']=222\n",
    "print(x)\n",
    "\n",
    "del(y['pradeep'])\n",
    "print(y)"
   ]
  }
 ],
 "metadata": {
  "kernelspec": {
   "display_name": "Python 3",
   "language": "python",
   "name": "python3"
  },
  "language_info": {
   "codemirror_mode": {
    "name": "ipython",
    "version": 3
   },
   "file_extension": ".py",
   "mimetype": "text/x-python",
   "name": "python",
   "nbconvert_exporter": "python",
   "pygments_lexer": "ipython3",
   "version": "3.7.3"
  }
 },
 "nbformat": 4,
 "nbformat_minor": 2
}
